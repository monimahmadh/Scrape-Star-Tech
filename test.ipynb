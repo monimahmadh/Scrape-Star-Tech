{
 "cells": [
  {
   "cell_type": "code",
   "execution_count": 2,
   "metadata": {},
   "outputs": [],
   "source": [
    "from pathlib import Path\n",
    "import requests\n",
    "from bs4 import BeautifulSoup\n",
    "from time import sleep\n",
    "from PIL import Image\n",
    "import base64\n",
    "import pandas as pd"
   ]
  },
  {
   "cell_type": "code",
   "execution_count": 30,
   "metadata": {},
   "outputs": [
    {
     "name": "stdout",
     "output_type": "stream",
     "text": [
      "Intel Core i9 14900F 14th Gen Raptor Lake Processor\n",
      "UklGRmoSAA\n",
      "False\n",
      "Socket: LGA1700CPU Threads: 32 GHz\n",
      "Up Coming\n",
      "Intel Core i7 14700F 14th Gen Raptor Lake Processor\n",
      "UklGRhITAA\n",
      "False\n",
      "Socket: LGA1700CPU Threads: 28 GHz\n",
      "Up Coming\n",
      "Intel Core i3 14100F 14th Gen Raptor Lake Processor\n",
      "UklGRvYRAA\n",
      "False\n",
      "Socket: LGA1700PU Threads: 8he GHz\n",
      "Up Coming\n",
      "Intel Pentium Gold G7400 Alder Lake Processor\n",
      "/9j/4AAQSk\n",
      "7,499৳\n",
      "Intel UHD Graphics 710ads: 4e, Socket: LGA 1700\n",
      "Up Coming\n",
      "Intel 10th Gen Core i3 10100F Processor\n",
      "/9j/4AAQSk\n",
      "7,900৳\n",
      "6M Intel Smart  Cache GHz00\n",
      "Up Coming\n",
      "Intel Core i3 10105F 10th Gen Processor\n",
      "/9j/4AAQSk\n",
      "7,900৳\n",
      "6M Cache & Threads- 80 GHz0\n",
      "Out Of Stock\n",
      "Intel Pentium Gold G6405 Coffee Lake Processor\n",
      "UklGRu4NAA\n",
      "8,800৳\n",
      "Intel UHD Graphics 610 2 & Threads- 4\n",
      "Out Of Stock\n",
      "Intel 5th Gen Core i7 5930K Processor\n",
      "UklGRkIUAA\n",
      "9,900৳\n",
      "Socket: LGA2011ds: 12rt Cache\n",
      "Out Of Stock\n",
      "Intel Core i3-12100F 12th Gen Alder Lake Processor\n",
      "/9j/4AAQSk\n",
      "9,900৳\n",
      "Max Memory Size: 128 GBds: 80.30 GHz\n",
      "Up Coming\n",
      "Intel Core i3-12100 12th Gen Alder Lake Processor (Tray)\n",
      "UklGRkYTAA\n",
      "11,200৳\n",
      "Graphic: Intel UHD Graphics 7300 GHz\n",
      "Up Coming\n",
      "Intel Core i3-12100 12th Gen Alder Lake Processor\n",
      "/9j/4AAQSk\n",
      "11,200৳\n",
      "Graphic: Intel UHD Graphics 7300 GHz\n",
      "Up Coming\n",
      "Intel 10th Gen Core i3 10100 Processor\n",
      "/9j/4AAQSk\n",
      "11,500৳\n",
      "6M Cache & Threads- 8 GHz00\n",
      "Up Coming\n",
      "Intel 10th Gen Core i5-10400F Processor\n",
      "/9j/4AAQSk\n",
      "11,500৳\n",
      "Memory Types: DDR4-2666 to 4.30 GHz\n",
      "Up Coming\n",
      "Intel Core i3 10105 10th Gen Comet Lake Processor\n",
      "/9j/4AAQSk\n",
      "11,800৳\n",
      "Intel UHD Graphics 630 6M Cache\n",
      "Up Coming\n",
      "Intel 11th Gen Core i5-11400F Rocket Lake Processor\n",
      "/9j/4AAQSk\n",
      "14,000৳\n",
      "Max RAM Size: 128 GBreads: 12040 GHz\n",
      "Up Coming\n",
      "Intel 11th Gen Core i5-11400 Rocket Lake Processor\n",
      "/9j/4AAQSk\n",
      "14,500৳\n",
      "GPU name: Intel UHD Graphics 730 GHz\n",
      "Up Coming\n",
      "Intel 13th Gen Core i3-13100 Raptor Lake Processor\n",
      "UklGRmoNAA\n",
      "15,000৳\n",
      "Socket: LGA 1700s: 8z up to 4.50 GHz\n",
      "Up Coming\n",
      "Intel 10th Gen Core i5-10400 Processor\n",
      "/9j/4AAQSk\n",
      "15,500৳\n",
      "Intel UHD Graphics 630p to 4.30 GHz\n",
      "Up Coming\n"
     ]
    },
    {
     "ename": "KeyboardInterrupt",
     "evalue": "",
     "output_type": "error",
     "traceback": [
      "\u001b[1;31m---------------------------------------------------------------------------\u001b[0m",
      "\u001b[1;31mKeyboardInterrupt\u001b[0m                         Traceback (most recent call last)",
      "Cell \u001b[1;32mIn[30], line 13\u001b[0m\n\u001b[0;32m     10\u001b[0m sleep(\u001b[38;5;241m2\u001b[39m)\n\u001b[0;32m     12\u001b[0m \u001b[38;5;28;01mfor\u001b[39;00m product \u001b[38;5;129;01min\u001b[39;00m product_divs:    \n\u001b[1;32m---> 13\u001b[0m     sleep(\u001b[38;5;241m2\u001b[39m)\n\u001b[0;32m     14\u001b[0m     product_name \u001b[38;5;241m=\u001b[39m product\u001b[38;5;241m.\u001b[39mfind(\u001b[38;5;124m\"\u001b[39m\u001b[38;5;124mh4\u001b[39m\u001b[38;5;124m\"\u001b[39m, class_\u001b[38;5;241m=\u001b[39m\u001b[38;5;124m\"\u001b[39m\u001b[38;5;124mp-item-name\u001b[39m\u001b[38;5;124m\"\u001b[39m)\u001b[38;5;241m.\u001b[39mtext\u001b[38;5;241m.\u001b[39mstrip()    \u001b[38;5;66;03m# finding product name which in a h4 html tag. then converting to text data and striping for remove exta space\u001b[39;00m\n\u001b[0;32m     15\u001b[0m     product_image \u001b[38;5;241m=\u001b[39m product\u001b[38;5;241m.\u001b[39mfind(\u001b[38;5;124m\"\u001b[39m\u001b[38;5;124mimg\u001b[39m\u001b[38;5;124m\"\u001b[39m)[\u001b[38;5;124m\"\u001b[39m\u001b[38;5;124msrc\u001b[39m\u001b[38;5;124m\"\u001b[39m]      \u001b[38;5;66;03m# finding product image url from img tag\u001b[39;00m\n",
      "\u001b[1;31mKeyboardInterrupt\u001b[0m: "
     ]
    }
   ],
   "source": [
    "\n",
    "\n",
    "url = \"https://www.startech.com.bd/component/processor/intel-processor?sort=p.price&order=ASC&limit=90\"\n",
    "url_2_test = \"https://www.startech.com.bd/component/processor/intel-processor?filter_status=7&sort=p.price&order=ASC&limit=90\"\n",
    "responce = requests.get(url)\n",
    "html = responce.text\n",
    "soup = BeautifulSoup(html, \"lxml\") # this variable contains all information of the page in beautiful soup object\n",
    "\n",
    "\n",
    "product_divs = soup.find_all(\"div\", class_=\"p-item\")       # finding all divs that contains indevisul prodact data\n",
    "\n",
    "sleep(2)\n",
    "\n",
    "for product in product_divs:    \n",
    "    sleep(2)\n",
    "    product_name = product.find(\"h4\", class_=\"p-item-name\").text.strip()    # finding product name which in a h4 html tag. then converting to text data and striping for remove exta space\n",
    "    product_image = product.find(\"img\")[\"src\"]      # finding product image url from img tag\n",
    "\n",
    "    # Download and save the product image\n",
    "    sleep(2)\n",
    "    image_data = requests.get(product_image).content    # requesting for image content\n",
    "    image_base64 = base64.b64encode(image_data).decode('utf-8')     # encoding the image to base64 instade of saving to hardisk \n",
    "    # Path(f'{product_name}.jpg').write_bytes(image_data)\n",
    "    \n",
    "\n",
    "    \n",
    "    product_features = product.find(\"ul\").text.strip()\n",
    "    sleep(2)\n",
    "\n",
    "    if product.find(\"div\", class_=\"p-item-price\").text.strip().endswith(\"৳\"):\n",
    "        product_price = product.find(\"div\", class_=\"p-item-price\").text.split()[0].strip()\n",
    "    else:\n",
    "        out_of_stock_massage = product.find(\"div\", class_=\"p-item-price\").text.strip()\n",
    "\n",
    "    # product_price = product.find(\"div\", class_=\"p-item-price\")[0].text.strip()\n",
    "\n",
    "    \n",
    "    print(product_name)\n",
    "    print(image_base64[:10])\n",
    "    print(product_price)\n",
    "    print(product_features)\n",
    "    print(out_of_stock_massage)\n",
    "\n"
   ]
  },
  {
   "cell_type": "code",
   "execution_count": 10,
   "metadata": {},
   "outputs": [
    {
     "data": {
      "text/plain": [
       "'Clock Speed: 4.3 GHz up to 5.8 GHz\\rCache: 36 MB Intel Smart Cache\\rCPU Cores: 24; CPU Threads: 32\\rSocket: LGA1700'"
      ]
     },
     "execution_count": 10,
     "metadata": {},
     "output_type": "execute_result"
    }
   ],
   "source": [
    "product_divs[0].find(\"ul\").text.strip()"
   ]
  },
  {
   "cell_type": "code",
   "execution_count": 11,
   "metadata": {},
   "outputs": [
    {
     "data": {
      "text/plain": [
       "'9,900৳'"
      ]
     },
     "execution_count": 11,
     "metadata": {},
     "output_type": "execute_result"
    }
   ],
   "source": [
    "product_divs[7].find(\"div\", class_=\"p-item-price\").text.split()[0].strip()\n"
   ]
  },
  {
   "cell_type": "code",
   "execution_count": 26,
   "metadata": {},
   "outputs": [
    {
     "data": {
      "text/plain": [
       "False"
      ]
     },
     "execution_count": 26,
     "metadata": {},
     "output_type": "execute_result"
    }
   ],
   "source": [
    "product_divs[2].find(\"div\", class_=\"p-item-price\").text.strip().endswith(\"৳\")"
   ]
  },
  {
   "cell_type": "code",
   "execution_count": 25,
   "metadata": {},
   "outputs": [
    {
     "data": {
      "text/plain": [
       "<div class=\"p-item\">\n",
       "<div class=\"p-item-inner\">\n",
       "<div class=\"p-item-img\"><a href=\"https://www.startech.com.bd/intel-core-i3-14100f-14th-gen-processor\"><img alt=\"Intel Core i3 14100F 14th Gen Raptor Lake Processor\" height=\"228\" src=\"https://www.startech.com.bd/image/cache/catalog/processor/intel/i3-14100f/i3-14100f-01-228x228.webp\" width=\"228\"/></a></div>\n",
       "<div class=\"p-item-details\">\n",
       "<h4 class=\"p-item-name\"> <a href=\"https://www.startech.com.bd/intel-core-i3-14100f-14th-gen-processor\">Intel Core i3 14100F 14th Gen Raptor Lake Processor</a></h4>\n",
       "<div class=\"short-description\">\n",
       "<ul><li>Clock Speed: 3.5 GHz up to 4.7 GHz\n",
       "</li><li>Cache: 12 MB Intel Smart Cache\n",
       "</li><li>CPU Cores: 4; CPU Threads: 8\n",
       "</li><li>Socket: LGA1700</li></ul>\n",
       "</div>\n",
       "<div class=\"p-item-price\">\n",
       "<span>Up Coming</span>\n",
       "</div>\n",
       "<div class=\"actions\">\n",
       "<span class=\"st-btn stock-status\">Up Coming</span>\n",
       "<span class=\"st-btn btn-compare\" onclick=\"compare.add('33376');\"><i class=\"material-icons\">library_add</i>Add to Compare</span>\n",
       "</div>\n",
       "</div>\n",
       "</div>\n",
       "</div>"
      ]
     },
     "execution_count": 25,
     "metadata": {},
     "output_type": "execute_result"
    }
   ],
   "source": [
    "product_divs[2]"
   ]
  },
  {
   "cell_type": "code",
   "execution_count": null,
   "metadata": {},
   "outputs": [],
   "source": []
  }
 ],
 "metadata": {
  "kernelspec": {
   "display_name": "base",
   "language": "python",
   "name": "python3"
  },
  "language_info": {
   "codemirror_mode": {
    "name": "ipython",
    "version": 3
   },
   "file_extension": ".py",
   "mimetype": "text/x-python",
   "name": "python",
   "nbconvert_exporter": "python",
   "pygments_lexer": "ipython3",
   "version": "3.11.5"
  }
 },
 "nbformat": 4,
 "nbformat_minor": 2
}
