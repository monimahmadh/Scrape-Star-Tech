{
 "cells": [
  {
   "cell_type": "code",
   "execution_count": 1,
   "metadata": {},
   "outputs": [],
   "source": [
    "from pathlib import Path\n",
    "import requests\n",
    "from bs4 import BeautifulSoup\n",
    "from time import sleep\n",
    "from PIL import Image\n",
    "import base64\n",
    "import pandas as pd"
   ]
  },
  {
   "cell_type": "code",
   "execution_count": 33,
   "metadata": {},
   "outputs": [
    {
     "name": "stdout",
     "output_type": "stream",
     "text": [
      "Intel Core i9 14900F 14th Gen Raptor Lake Processor\n",
      "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\n",
      "Up Coming\n",
      "['Clock Speed: 4.3 GHz up to 5.8 GHz', 'Cache: 36 MB Intel Smart Cache', 'CPU Cores: 24; CPU Threads: 32', 'Socket: LGA1700']\n"
     ]
    },
    {
     "ename": "KeyboardInterrupt",
     "evalue": "",
     "output_type": "error",
     "traceback": [
      "\u001b[1;31m---------------------------------------------------------------------------\u001b[0m",
      "\u001b[1;31mKeyboardInterrupt\u001b[0m                         Traceback (most recent call last)",
      "Cell \u001b[1;32mIn[33], line 13\u001b[0m\n\u001b[0;32m     10\u001b[0m sleep(\u001b[38;5;241m2\u001b[39m)\n\u001b[0;32m     12\u001b[0m \u001b[38;5;28;01mfor\u001b[39;00m product \u001b[38;5;129;01min\u001b[39;00m product_divs:    \n\u001b[1;32m---> 13\u001b[0m     sleep(\u001b[38;5;241m2\u001b[39m)\n\u001b[0;32m     14\u001b[0m     product_name \u001b[38;5;241m=\u001b[39m product\u001b[38;5;241m.\u001b[39mfind(\u001b[38;5;124m\"\u001b[39m\u001b[38;5;124mh4\u001b[39m\u001b[38;5;124m\"\u001b[39m, class_\u001b[38;5;241m=\u001b[39m\u001b[38;5;124m\"\u001b[39m\u001b[38;5;124mp-item-name\u001b[39m\u001b[38;5;124m\"\u001b[39m)\u001b[38;5;241m.\u001b[39mtext\u001b[38;5;241m.\u001b[39mstrip()    \u001b[38;5;66;03m# finding product name which in a h4 html tag. then converting to text data and striping for remove exta space\u001b[39;00m\n\u001b[0;32m     15\u001b[0m     product_image \u001b[38;5;241m=\u001b[39m product\u001b[38;5;241m.\u001b[39mfind(\u001b[38;5;124m\"\u001b[39m\u001b[38;5;124mimg\u001b[39m\u001b[38;5;124m\"\u001b[39m)[\u001b[38;5;124m\"\u001b[39m\u001b[38;5;124msrc\u001b[39m\u001b[38;5;124m\"\u001b[39m]      \u001b[38;5;66;03m# finding product image url from img tag\u001b[39;00m\n",
      "\u001b[1;31mKeyboardInterrupt\u001b[0m: "
     ]
    }
   ],
   "source": [
    "\n",
    "\n",
    "url = \"https://www.startech.com.bd/component/processor/intel-processor?sort=p.price&order=ASC&limit=90\"\n",
    "url_2_test = \"https://www.startech.com.bd/component/processor/intel-processor?filter_status=7&sort=p.price&order=ASC&limit=90\"\n",
    "responce = requests.get(url)\n",
    "html = responce.text\n",
    "soup = BeautifulSoup(html, \"lxml\") # this variable contains all information of the page in beautiful soup object\n",
    "\n",
    "\n",
    "product_divs = soup.find_all(\"div\", class_=\"p-item\")       # finding all divs that contains indevisul prodact data\n",
    "\n",
    "sleep(2)\n",
    "\n",
    "for product in product_divs:    \n",
    "    sleep(2)\n",
    "    product_name = product.find(\"h4\", class_=\"p-item-name\").text.strip()    # finding product name which in a h4 html tag. then converting to text data and striping for remove exta space\n",
    "    product_image = product.find(\"img\")[\"src\"]      # finding product image url from img tag\n",
    "\n",
    "    # Download and save the product image\n",
    "    sleep(2)\n",
    "    image_data = requests.get(product_image).content    # requesting for image content\n",
    "    encoded_image = base64.b64encode(image_data).decode('utf-8')     # encoding the image to base64 instade of saving to hardisk \n",
    "    # Path(f'{product_name}.jpg').write_bytes(image_data)\n",
    "    \n",
    "\n",
    "    \n",
    "    product_features = product.find_all(\"li\")\n",
    "    feature_list = [feature.text.strip() for feature in product_features]\n",
    "    sleep(2)\n",
    "\n",
    "    # product_price = product.find(\"div\", class_=\"p-item-price\")[0].text.strip()\n",
    "    product_price = product.find(\"div\", class_=\"p-item-price\").text.split()[0].strip()\n",
    "    \n",
    "    \n",
    "    print(product_name)\n",
    "    print(encoded_image)\n",
    "    print(product_price)\n",
    "    print(feature_list)\n",
    "\n"
   ]
  },
  {
   "cell_type": "code",
   "execution_count": 29,
   "metadata": {},
   "outputs": [
    {
     "data": {
      "text/plain": [
       "45"
      ]
     },
     "execution_count": 29,
     "metadata": {},
     "output_type": "execute_result"
    }
   ],
   "source": [
    "len(product_divs)"
   ]
  },
  {
   "cell_type": "code",
   "execution_count": 50,
   "metadata": {},
   "outputs": [
    {
     "data": {
      "text/plain": [
       "'9,900৳'"
      ]
     },
     "execution_count": 50,
     "metadata": {},
     "output_type": "execute_result"
    }
   ],
   "source": [
    "product_divs[7].find(\"div\", class_=\"p-item-price\").text.split()[0].strip()\n"
   ]
  },
  {
   "cell_type": "code",
   "execution_count": 47,
   "metadata": {},
   "outputs": [
    {
     "data": {
      "text/plain": [
       "False"
      ]
     },
     "execution_count": 47,
     "metadata": {},
     "output_type": "execute_result"
    }
   ],
   "source": [
    "product_divs[5].find(\"div\", class_=\"p-item-price\").text.isalnum()"
   ]
  },
  {
   "cell_type": "code",
   "execution_count": null,
   "metadata": {},
   "outputs": [],
   "source": []
  }
 ],
 "metadata": {
  "kernelspec": {
   "display_name": "base",
   "language": "python",
   "name": "python3"
  },
  "language_info": {
   "codemirror_mode": {
    "name": "ipython",
    "version": 3
   },
   "file_extension": ".py",
   "mimetype": "text/x-python",
   "name": "python",
   "nbconvert_exporter": "python",
   "pygments_lexer": "ipython3",
   "version": "3.11.5"
  }
 },
 "nbformat": 4,
 "nbformat_minor": 2
}
