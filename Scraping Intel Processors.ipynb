{
 "cells": [
  {
   "cell_type": "code",
   "execution_count": 37,
   "metadata": {},
   "outputs": [],
   "source": [
    "import requests\n",
    "from bs4 import BeautifulSoup\n",
    "from pathlib import Path\n",
    "\n"
   ]
  },
  {
   "cell_type": "code",
   "execution_count": 14,
   "metadata": {},
   "outputs": [],
   "source": [
    "\n",
    "url = \"https://www.startech.com.bd/component/processor/intel-processor?sort=p.price&order=ASC&limit=90\""
   ]
  },
  {
   "cell_type": "code",
   "execution_count": 15,
   "metadata": {},
   "outputs": [],
   "source": [
    "responce = requests.get(url)"
   ]
  },
  {
   "cell_type": "code",
   "execution_count": 16,
   "metadata": {},
   "outputs": [],
   "source": [
    "html = responce.text"
   ]
  },
  {
   "cell_type": "code",
   "execution_count": 17,
   "metadata": {},
   "outputs": [],
   "source": [
    "soup = BeautifulSoup(html, \"lxml\")"
   ]
  },
  {
   "cell_type": "code",
   "execution_count": 31,
   "metadata": {},
   "outputs": [],
   "source": [
    "product_div = soup.find(\"div\", class_=\"p-item\")"
   ]
  },
  {
   "cell_type": "code",
   "execution_count": 35,
   "metadata": {},
   "outputs": [],
   "source": [
    "product_name = product_div.find(\"h4\", class_=\"p-item-name\").text"
   ]
  },
  {
   "cell_type": "code",
   "execution_count": 55,
   "metadata": {},
   "outputs": [],
   "source": [
    "product_image = product_div.find(\"img\")[\"src\"]"
   ]
  },
  {
   "cell_type": "code",
   "execution_count": 57,
   "metadata": {},
   "outputs": [
    {
     "data": {
      "text/plain": [
       "' Intel Core i9 14900F 14th Gen Raptor Lake Processor'"
      ]
     },
     "execution_count": 57,
     "metadata": {},
     "output_type": "execute_result"
    }
   ],
   "source": [
    "product_name"
   ]
  },
  {
   "cell_type": "code",
   "execution_count": 58,
   "metadata": {},
   "outputs": [
    {
     "data": {
      "text/plain": [
       "4722"
      ]
     },
     "execution_count": 58,
     "metadata": {},
     "output_type": "execute_result"
    }
   ],
   "source": [
    "Path(f'{product_name}.jpg').write_bytes(requests.get(product_image).content)"
   ]
  },
  {
   "cell_type": "code",
   "execution_count": 32,
   "metadata": {},
   "outputs": [
    {
     "data": {
      "text/plain": [
       "<div class=\"p-item\">\n",
       "<div class=\"p-item-inner\">\n",
       "<div class=\"p-item-img\"><a href=\"https://www.startech.com.bd/intel-core-i9-14900f-14th-gen-processor\"><img alt=\"Intel Core i9 14900F 14th Gen Raptor Lake Processor\" height=\"228\" src=\"https://www.startech.com.bd/image/cache/catalog/processor/intel/i9-14900f/i9-14900f-01-228x228.webp\" width=\"228\"/></a></div>\n",
       "<div class=\"p-item-details\">\n",
       "<h4 class=\"p-item-name\"> <a href=\"https://www.startech.com.bd/intel-core-i9-14900f-14th-gen-processor\">Intel Core i9 14900F 14th Gen Raptor Lake Processor</a></h4>\n",
       "<div class=\"short-description\">\n",
       "<ul><li>Clock Speed: 4.3 GHz up to 5.8 GHz\n",
       "</li><li>Cache: 36 MB Intel Smart Cache\n",
       "</li><li>CPU Cores: 24; CPU Threads: 32\n",
       "</li><li>Socket: LGA1700</li></ul>\n",
       "</div>\n",
       "<div class=\"p-item-price\">\n",
       "<span>Up Coming</span>\n",
       "</div>\n",
       "<div class=\"actions\">\n",
       "<span class=\"st-btn stock-status\">Up Coming</span>\n",
       "<span class=\"st-btn btn-compare\" onclick=\"compare.add('33387');\"><i class=\"material-icons\">library_add</i>Add to Compare</span>\n",
       "</div>\n",
       "</div>\n",
       "</div>\n",
       "</div>"
      ]
     },
     "execution_count": 32,
     "metadata": {},
     "output_type": "execute_result"
    }
   ],
   "source": [
    "product_div"
   ]
  },
  {
   "cell_type": "code",
   "execution_count": 76,
   "metadata": {},
   "outputs": [],
   "source": [
    "product_feature = product_div.find(\"ul\").text.strip()"
   ]
  },
  {
   "cell_type": "code",
   "execution_count": 77,
   "metadata": {},
   "outputs": [
    {
     "data": {
      "text/plain": [
       "'Clock Speed: 4.3 GHz up to 5.8 GHz\\rCache: 36 MB Intel Smart Cache\\rCPU Cores: 24; CPU Threads: 32\\rSocket: LGA1700'"
      ]
     },
     "execution_count": 77,
     "metadata": {},
     "output_type": "execute_result"
    }
   ],
   "source": [
    "product_feature"
   ]
  }
 ],
 "metadata": {
  "kernelspec": {
   "display_name": "base",
   "language": "python",
   "name": "python3"
  },
  "language_info": {
   "codemirror_mode": {
    "name": "ipython",
    "version": 3
   },
   "file_extension": ".py",
   "mimetype": "text/x-python",
   "name": "python",
   "nbconvert_exporter": "python",
   "pygments_lexer": "ipython3",
   "version": "3.11.5"
  }
 },
 "nbformat": 4,
 "nbformat_minor": 2
}
