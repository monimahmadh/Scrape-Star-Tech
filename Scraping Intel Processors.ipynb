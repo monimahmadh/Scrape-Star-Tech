{
 "cells": [
  {
   "cell_type": "code",
   "execution_count": null,
   "metadata": {},
   "outputs": [],
   "source": [
    "from pathlib import Path\n",
    "import requests\n",
    "from bs4 import BeautifulSoup\n",
    "\n",
    "\n",
    "\n",
    "url = \"https://www.startech.com.bd/component/processor/intel-processor?sort=p.price&order=ASC&limit=90\"\n",
    "responce = requests.get(url)\n",
    "html = responce.text\n",
    "soup = BeautifulSoup(html, \"lxml\")\n",
    "\n",
    "\n",
    "product_divs = soup.find_all(\"div\", class_=\"p-item\")\n",
    "\n",
    "for product in product_divs:\n",
    "    product_name = product.find(\"h4\", class_=\"p-item-name\").text.strip()\n",
    "    product_image = product.find(\"img\")[\"src\"]\n",
    "    \n",
    "    # Download and save the product image\n",
    "    image_data = requests.get(product_image).content\n",
    "    Path(f'{product_name}.jpg').write_bytes(image_data)\n",
    "    \n",
    "    product_features = product.find_all(\"li\")\n",
    "    feature_list = [feature.text.strip() for feature in product_features]\n",
    "\n",
    "    product_price = product.find(\"div\", class_=\"p-item-price\").text.strip()\n",
    "    \n",
    "    print(product_name)\n",
    "    print(product_price)\n",
    "    print(feature_list)\n"
   ]
  }
 ],
 "metadata": {
  "kernelspec": {
   "display_name": "base",
   "language": "python",
   "name": "python3"
  },
  "language_info": {
   "codemirror_mode": {
    "name": "ipython",
    "version": 3
   },
   "file_extension": ".py",
   "mimetype": "text/x-python",
   "name": "python",
   "nbconvert_exporter": "python",
   "pygments_lexer": "ipython3",
   "version": "3.11.5"
  }
 },
 "nbformat": 4,
 "nbformat_minor": 2
}
