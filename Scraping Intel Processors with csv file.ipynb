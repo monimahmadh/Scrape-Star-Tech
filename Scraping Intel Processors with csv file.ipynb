{
 "cells": [
  {
   "cell_type": "code",
   "execution_count": 2,
   "metadata": {},
   "outputs": [],
   "source": [
    "import csv\n",
    "from pathlib import Path\n",
    "import requests\n",
    "from bs4 import BeautifulSoup\n",
    "from PIL import Image\n",
    "import base64\n",
    "import pandas as pd"
   ]
  },
  {
   "cell_type": "code",
   "execution_count": 3,
   "metadata": {},
   "outputs": [],
   "source": [
    "url = \"https://www.startech.com.bd/component/processor/intel-processor?sort=p.price&order=ASC&limit=90\"\n",
    "responce = requests.get(url)\n",
    "html = responce.text\n",
    "soup = BeautifulSoup(html, \"lxml\")\n",
    "\n",
    "product_divs = soup.find_all(\"div\", class_=\"p-item\")\n",
    "\n",
    "# List to hold all product data\n",
    "products = []\n"
   ]
  },
  {
   "cell_type": "code",
   "execution_count": null,
   "metadata": {},
   "outputs": [],
   "source": [
    "\n",
    "for product in product_divs:\n",
    "    product_name = product.find(\"h4\", class_=\"p-item-name\").text.strip()\n",
    "    product_image = product.find(\"img\")[\"src\"]\n",
    "    \n",
    "    # Download and save the product image\n",
    "    image_data = requests.get(product_image).content\n",
    "    Path(f'{product_name}.jpg').write_bytes(image_data)\n",
    "    \n",
    "    product_features = product.find_all(\"li\")\n",
    "    feature_list = [feature.text.strip() for feature in product_features]\n",
    "\n",
    "    product_price = product.find(\"div\", class_=\"p-item-price\").text.strip()\n",
    "    \n",
    "    # Add product data to the list\n",
    "    products.append({\n",
    "        \"name\": product_name,\n",
    "        \"price\": product_price,\n",
    "        \"features\": feature_list,\n",
    "        \"image\": f'{product_name}.jpg'  # Store the image filename\n",
    "    })\n",
    "\n",
    "# Define the CSV file columns\n",
    "fieldnames = [\"name\", \"price\", \"features\", \"image\"]\n",
    "\n",
    "# Write to a CSV file\n",
    "with open('products.csv', 'w', newline='', encoding='utf-8') as csvfile:\n",
    "    writer = csv.DictWriter(csvfile, fieldnames=fieldnames)\n",
    "    writer.writeheader()\n",
    "    for product in products:\n",
    "        # Convert the features list to a single string separated by commas\n",
    "        product[\"features\"] = ', '.join(product[\"features\"])\n",
    "        writer.writerow(product)\n",
    "\n",
    "print(\"Data has been written to products.csv\")\n"
   ]
  }
 ],
 "metadata": {
  "kernelspec": {
   "display_name": "base",
   "language": "python",
   "name": "python3"
  },
  "language_info": {
   "codemirror_mode": {
    "name": "ipython",
    "version": 3
   },
   "file_extension": ".py",
   "mimetype": "text/x-python",
   "name": "python",
   "nbconvert_exporter": "python",
   "pygments_lexer": "ipython3",
   "version": "3.11.5"
  }
 },
 "nbformat": 4,
 "nbformat_minor": 2
}
