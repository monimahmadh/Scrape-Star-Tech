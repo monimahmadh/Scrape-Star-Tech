{
 "cells": [
  {
   "cell_type": "code",
   "execution_count": 60,
   "metadata": {},
   "outputs": [
    {
     "name": "stdout",
     "output_type": "stream",
     "text": [
      "No link found in the last li element\n",
      "Alhamdulillah Done\n"
     ]
    }
   ],
   "source": [
    "import requests\n",
    "from bs4 import BeautifulSoup\n",
    "from time import sleep\n",
    "import base64\n",
    "import pandas as pd\n",
    "\n",
    "# Getting user inputs\n",
    "url = input(\"Paste URL from Star Tech: \")\n",
    "file_name = input(\"File name (e.g., laptop_data, intel_processor, etc.): \")\n",
    "\n",
    "products = []\n",
    "\n",
    "# Function to scrape a page\n",
    "def page_scrap(url):\n",
    "    response = requests.get(url)\n",
    "    html = response.text\n",
    "    soup = BeautifulSoup(html, \"lxml\")  # This variable contains all information of the page in a BeautifulSoup object\n",
    "    product_divs = soup.find_all(\"div\", class_=\"p-item\")  # Finding all divs that contain individual product data\n",
    "    sleep(2)\n",
    "\n",
    "    for product in product_divs:\n",
    "        all_info = {}\n",
    "        product_name = product.find(\"h4\", class_=\"p-item-name\").text.strip()  # Finding product names in an h4 HTML tag, then converting to text data and stripping to remove extra space\n",
    "        all_info.update({\"product_name\": product_name})\n",
    "\n",
    "        sleep(2)\n",
    "        product_image = product.find(\"img\")[\"src\"]  # Finding product image URL from img tag\n",
    "        image_data = requests.get(product_image).content  # Requesting image content\n",
    "        image_base64 = base64.b64encode(image_data).decode('utf-8')  # Encoding the image to base64 instead of saving it to hard disk\n",
    "        all_info.update({\"image_base64\": image_base64})\n",
    "\n",
    "        product_features = product.find(\"ul\").text.strip()\n",
    "        sleep(2)\n",
    "        all_info.update({\"product_features\": product_features})\n",
    "\n",
    "        price_text = product.find(\"div\", class_=\"p-item-price\").text.strip()\n",
    "\n",
    "        if price_text.endswith(\"৳\"):\n",
    "            product_price = price_text.split()[0].strip().replace(\"৳\", \"\")\n",
    "            all_info.update({\"product_price\": product_price})\n",
    "        else:\n",
    "            out_of_stock_message = price_text\n",
    "            all_info.update({\"out_of_stock_message\": out_of_stock_message})\n",
    "\n",
    "        sleep(2)\n",
    "        products.append(all_info)\n",
    "\n",
    "# Function to get the next page URL\n",
    "def get_next_page(soup):\n",
    "    pagination_ul = soup.find(\"ul\", class_=\"pagination\")\n",
    "    if pagination_ul:\n",
    "        next_page_li = pagination_ul.find_all(\"li\")[-1]\n",
    "        if \"disabled\" not in next_page_li.get(\"class\", []):\n",
    "            a_tag = next_page_li.find(\"a\")\n",
    "            if a_tag and \"href\" in a_tag.attrs:\n",
    "                return a_tag[\"href\"]\n",
    "            else:\n",
    "                print(\"No link found in the last li element\")\n",
    "        else:\n",
    "            print(\"The next page link is disabled\")\n",
    "    else:\n",
    "        print(\"Pagination not found\")\n",
    "    return None\n",
    "\n",
    "# Main loop to scrape all pages\n",
    "while url:\n",
    "    response = requests.get(url)\n",
    "    soup = BeautifulSoup(response.text, \"lxml\")\n",
    "    page_scrap(url)\n",
    "    next_url = get_next_page(soup)\n",
    "    if next_url:\n",
    "        url = next_url\n",
    "    else:\n",
    "        break\n",
    "\n",
    "# Save scraped data to a CSV file\n",
    "product_info = pd.DataFrame(products)\n",
    "product_info.to_csv(f\"{file_name}.csv\", index=False)\n",
    "print(\"Alhamdulillah Done\")\n"
   ]
  },
  {
   "cell_type": "code",
   "execution_count": null,
   "metadata": {},
   "outputs": [],
   "source": []
  }
 ],
 "metadata": {
  "kernelspec": {
   "display_name": "base",
   "language": "python",
   "name": "python3"
  },
  "language_info": {
   "codemirror_mode": {
    "name": "ipython",
    "version": 3
   },
   "file_extension": ".py",
   "mimetype": "text/x-python",
   "name": "python",
   "nbconvert_exporter": "python",
   "pygments_lexer": "ipython3",
   "version": "3.11.5"
  }
 },
 "nbformat": 4,
 "nbformat_minor": 2
}
